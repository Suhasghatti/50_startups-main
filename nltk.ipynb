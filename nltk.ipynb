{
 "cells": [
  {
   "cell_type": "code",
   "execution_count": 1,
   "id": "cf5bf7a7",
   "metadata": {},
   "outputs": [],
   "source": [
    "import re"
   ]
  },
  {
   "cell_type": "code",
   "execution_count": 2,
   "id": "d32353a8",
   "metadata": {},
   "outputs": [],
   "source": [
    "txt = 'The fear of thee Lord is the beining of the wisdom'"
   ]
  },
  {
   "cell_type": "code",
   "execution_count": 3,
   "id": "78d02a08",
   "metadata": {},
   "outputs": [
    {
     "data": {
      "text/plain": [
       "50"
      ]
     },
     "execution_count": 3,
     "metadata": {},
     "output_type": "execute_result"
    }
   ],
   "source": [
    "len(txt)"
   ]
  },
  {
   "cell_type": "code",
   "execution_count": 4,
   "id": "4528e1c3",
   "metadata": {},
   "outputs": [
    {
     "data": {
      "text/plain": [
       "['the', 'the', 'the']"
      ]
     },
     "execution_count": 4,
     "metadata": {},
     "output_type": "execute_result"
    }
   ],
   "source": [
    "re.findall('the', txt)"
   ]
  },
  {
   "cell_type": "code",
   "execution_count": 5,
   "id": "4bd8a0bc",
   "metadata": {},
   "outputs": [
    {
     "data": {
      "text/plain": [
       "['in', 'in']"
      ]
     },
     "execution_count": 5,
     "metadata": {},
     "output_type": "execute_result"
    }
   ],
   "source": [
    "re.findall('in', txt)"
   ]
  },
  {
   "cell_type": "code",
   "execution_count": 6,
   "id": "2d591201",
   "metadata": {},
   "outputs": [
    {
     "data": {
      "text/plain": [
       "['ear']"
      ]
     },
     "execution_count": 6,
     "metadata": {},
     "output_type": "execute_result"
    }
   ],
   "source": [
    "re.findall('ear', txt)"
   ]
  },
  {
   "cell_type": "code",
   "execution_count": 7,
   "id": "7f587265",
   "metadata": {},
   "outputs": [],
   "source": [
    "txt2 = 'A rabbi said to his 100 disciples, \"Good deeds are better than wise say\"'"
   ]
  },
  {
   "cell_type": "code",
   "execution_count": 8,
   "id": "1c21e52b",
   "metadata": {},
   "outputs": [
    {
     "data": {
      "text/plain": [
       "72"
      ]
     },
     "execution_count": 8,
     "metadata": {},
     "output_type": "execute_result"
    }
   ],
   "source": [
    "len(txt2)"
   ]
  },
  {
   "cell_type": "code",
   "execution_count": 9,
   "id": "b7ed51bf",
   "metadata": {},
   "outputs": [
    {
     "data": {
      "text/plain": [
       "['A',\n",
       " ' ',\n",
       " 'r',\n",
       " 'a',\n",
       " 'b',\n",
       " 'b',\n",
       " 'i',\n",
       " ' ',\n",
       " 's',\n",
       " 'a',\n",
       " 'i',\n",
       " 'd',\n",
       " ' ',\n",
       " 't',\n",
       " 'o',\n",
       " ' ',\n",
       " 'h',\n",
       " 'i',\n",
       " 's',\n",
       " ' ',\n",
       " ' ',\n",
       " 'd',\n",
       " 'i',\n",
       " 's',\n",
       " 'c',\n",
       " 'i',\n",
       " 'p',\n",
       " 'l',\n",
       " 'e',\n",
       " 's',\n",
       " ',',\n",
       " ' ',\n",
       " '\"',\n",
       " 'G',\n",
       " 'o',\n",
       " 'o',\n",
       " 'd',\n",
       " ' ',\n",
       " 'd',\n",
       " 'e',\n",
       " 'e',\n",
       " 'd',\n",
       " 's',\n",
       " ' ',\n",
       " 'a',\n",
       " 'r',\n",
       " 'e',\n",
       " ' ',\n",
       " 'b',\n",
       " 'e',\n",
       " 't',\n",
       " 't',\n",
       " 'e',\n",
       " 'r',\n",
       " ' ',\n",
       " 't',\n",
       " 'h',\n",
       " 'a',\n",
       " 'n',\n",
       " ' ',\n",
       " 'w',\n",
       " 'i',\n",
       " 's',\n",
       " 'e',\n",
       " ' ',\n",
       " 's',\n",
       " 'a',\n",
       " 'y',\n",
       " '\"']"
      ]
     },
     "execution_count": 9,
     "metadata": {},
     "output_type": "execute_result"
    }
   ],
   "source": [
    "re.findall(r'\\D', txt2)"
   ]
  },
  {
   "cell_type": "code",
   "execution_count": 10,
   "id": "e06c37fd",
   "metadata": {},
   "outputs": [
    {
     "data": {
      "text/plain": [
       "['100']"
      ]
     },
     "execution_count": 10,
     "metadata": {},
     "output_type": "execute_result"
    }
   ],
   "source": [
    "re.findall(r'\\d+', txt2)"
   ]
  },
  {
   "cell_type": "code",
   "execution_count": 11,
   "id": "d6625c9b",
   "metadata": {},
   "outputs": [
    {
     "data": {
      "text/plain": [
       "[]"
      ]
     },
     "execution_count": 11,
     "metadata": {},
     "output_type": "execute_result"
    }
   ],
   "source": [
    "re.findall('for', txt)"
   ]
  },
  {
   "cell_type": "code",
   "execution_count": 12,
   "id": "08458adb",
   "metadata": {},
   "outputs": [
    {
     "data": {
      "text/plain": [
       "<re.Match object; span=(44, 50), match='wisdom'>"
      ]
     },
     "execution_count": 12,
     "metadata": {},
     "output_type": "execute_result"
    }
   ],
   "source": [
    "re.search('wisdom', txt)"
   ]
  },
  {
   "cell_type": "code",
   "execution_count": 13,
   "id": "00bcc1f7",
   "metadata": {},
   "outputs": [
    {
     "data": {
      "text/plain": [
       "<re.Match object; span=(12, 13), match='t'>"
      ]
     },
     "execution_count": 13,
     "metadata": {},
     "output_type": "execute_result"
    }
   ],
   "source": [
    "re.search(r'\\bt', txt)"
   ]
  },
  {
   "cell_type": "code",
   "execution_count": 14,
   "id": "83bb7dd0",
   "metadata": {},
   "outputs": [
    {
     "data": {
      "text/plain": [
       "<re.Match object; span=(12, 16), match='thee'>"
      ]
     },
     "execution_count": 14,
     "metadata": {},
     "output_type": "execute_result"
    }
   ],
   "source": [
    "re.search(r'\\bt\\w+', txt)"
   ]
  },
  {
   "cell_type": "code",
   "execution_count": 15,
   "id": "ed4c5968",
   "metadata": {},
   "outputs": [
    {
     "data": {
      "text/plain": [
       "'The=fear=of=thee=Lord=is=the=beining=of=the=wisdom'"
      ]
     },
     "execution_count": 15,
     "metadata": {},
     "output_type": "execute_result"
    }
   ],
   "source": [
    "re.sub('\\s', '=', txt)"
   ]
  },
  {
   "cell_type": "code",
   "execution_count": 16,
   "id": "bd55fd7f",
   "metadata": {},
   "outputs": [
    {
     "data": {
      "text/plain": [
       "'A=rabbi=said=to=his=100=disciples,=\"Good=deeds=are=better=than=wise=say\"'"
      ]
     },
     "execution_count": 16,
     "metadata": {},
     "output_type": "execute_result"
    }
   ],
   "source": [
    "re.sub('\\s', '=', txt2)"
   ]
  },
  {
   "cell_type": "code",
   "execution_count": 17,
   "id": "ef15180d",
   "metadata": {},
   "outputs": [
    {
     "data": {
      "text/plain": [
       "'A rabbi said to his hundred disciples, \"Good deeds are better than wise say\"'"
      ]
     },
     "execution_count": 17,
     "metadata": {},
     "output_type": "execute_result"
    }
   ],
   "source": [
    "re.sub(r'\\d+','hundred', txt2)"
   ]
  },
  {
   "cell_type": "code",
   "execution_count": 18,
   "id": "a57a5e88",
   "metadata": {},
   "outputs": [
    {
     "data": {
      "text/plain": [
       "['The',\n",
       " 'fear',\n",
       " 'of',\n",
       " 'thee',\n",
       " 'Lord',\n",
       " 'is',\n",
       " 'the',\n",
       " 'beining',\n",
       " 'of',\n",
       " 'the',\n",
       " 'wisdom']"
      ]
     },
     "execution_count": 18,
     "metadata": {},
     "output_type": "execute_result"
    }
   ],
   "source": [
    "re.split('\\s', txt)"
   ]
  },
  {
   "cell_type": "code",
   "execution_count": 19,
   "id": "cfaf8ba6",
   "metadata": {},
   "outputs": [
    {
     "data": {
      "text/plain": [
       "['The fear of ', ' Lord is ', ' beining of ', ' wisdom']"
      ]
     },
     "execution_count": 19,
     "metadata": {},
     "output_type": "execute_result"
    }
   ],
   "source": [
    "re.split(r'\\bt\\w+', txt)"
   ]
  },
  {
   "cell_type": "code",
   "execution_count": 20,
   "id": "110b906c",
   "metadata": {},
   "outputs": [
    {
     "data": {
      "text/plain": [
       "['A rabbi said to his 100 disciples, \"Good deeds are better than wise say\"']"
      ]
     },
     "execution_count": 20,
     "metadata": {},
     "output_type": "execute_result"
    }
   ],
   "source": [
    "re.split(r'\\dt+', txt2)"
   ]
  },
  {
   "cell_type": "code",
   "execution_count": 21,
   "id": "3740cd12",
   "metadata": {},
   "outputs": [],
   "source": [
    "import string"
   ]
  },
  {
   "cell_type": "code",
   "execution_count": 22,
   "id": "168eacb6",
   "metadata": {},
   "outputs": [
    {
     "data": {
      "text/plain": [
       "4"
      ]
     },
     "execution_count": 22,
     "metadata": {},
     "output_type": "execute_result"
    }
   ],
   "source": [
    "txt.count('h')"
   ]
  },
  {
   "cell_type": "code",
   "execution_count": 23,
   "id": "8f5ba86f",
   "metadata": {},
   "outputs": [
    {
     "data": {
      "text/plain": [
       "3"
      ]
     },
     "execution_count": 23,
     "metadata": {},
     "output_type": "execute_result"
    }
   ],
   "source": [
    "txt.count('the')"
   ]
  },
  {
   "cell_type": "code",
   "execution_count": 24,
   "id": "614b1ee2",
   "metadata": {},
   "outputs": [
    {
     "data": {
      "text/plain": [
       "False"
      ]
     },
     "execution_count": 24,
     "metadata": {},
     "output_type": "execute_result"
    }
   ],
   "source": [
    "txt.isalpha()"
   ]
  },
  {
   "cell_type": "code",
   "execution_count": 25,
   "id": "cc19ddc1",
   "metadata": {},
   "outputs": [],
   "source": [
    "txt3 = 'stringlibrary'"
   ]
  },
  {
   "cell_type": "code",
   "execution_count": 26,
   "id": "ba171ada",
   "metadata": {},
   "outputs": [
    {
     "data": {
      "text/plain": [
       "True"
      ]
     },
     "execution_count": 26,
     "metadata": {},
     "output_type": "execute_result"
    }
   ],
   "source": [
    "txt3.isalpha()"
   ]
  },
  {
   "cell_type": "code",
   "execution_count": 27,
   "id": "9f0e215b",
   "metadata": {},
   "outputs": [],
   "source": [
    "txt4 = txt.lower()"
   ]
  },
  {
   "cell_type": "code",
   "execution_count": 28,
   "id": "4404f394",
   "metadata": {},
   "outputs": [
    {
     "name": "stdout",
     "output_type": "stream",
     "text": [
      "the fear of thee lord is the beining of the wisdom\n"
     ]
    }
   ],
   "source": [
    "print(txt4)"
   ]
  },
  {
   "cell_type": "code",
   "execution_count": 29,
   "id": "eb2c78c1",
   "metadata": {},
   "outputs": [
    {
     "data": {
      "text/plain": [
       "False"
      ]
     },
     "execution_count": 29,
     "metadata": {},
     "output_type": "execute_result"
    }
   ],
   "source": [
    "txt.islower()"
   ]
  },
  {
   "cell_type": "code",
   "execution_count": 30,
   "id": "f34a01e9",
   "metadata": {},
   "outputs": [
    {
     "data": {
      "text/plain": [
       "True"
      ]
     },
     "execution_count": 30,
     "metadata": {},
     "output_type": "execute_result"
    }
   ],
   "source": [
    "txt4.islower()"
   ]
  },
  {
   "cell_type": "code",
   "execution_count": 31,
   "id": "9218e6f7",
   "metadata": {},
   "outputs": [],
   "source": [
    "txt5 = txt2.split()"
   ]
  },
  {
   "cell_type": "code",
   "execution_count": 32,
   "id": "730d057e",
   "metadata": {},
   "outputs": [
    {
     "name": "stdout",
     "output_type": "stream",
     "text": [
      "['A', 'rabbi', 'said', 'to', 'his', '100', 'disciples,', '\"Good', 'deeds', 'are', 'better', 'than', 'wise', 'say\"']\n"
     ]
    }
   ],
   "source": [
    "print(txt5)"
   ]
  },
  {
   "cell_type": "code",
   "execution_count": 33,
   "id": "2cf133d5",
   "metadata": {},
   "outputs": [],
   "source": [
    "txt6 = '  '.join(txt5)"
   ]
  },
  {
   "cell_type": "code",
   "execution_count": 34,
   "id": "8d8270f6",
   "metadata": {},
   "outputs": [
    {
     "name": "stdout",
     "output_type": "stream",
     "text": [
      "A  rabbi  said  to  his  100  disciples,  \"Good  deeds  are  better  than  wise  say\"\n"
     ]
    }
   ],
   "source": [
    "print(txt6)"
   ]
  },
  {
   "cell_type": "code",
   "execution_count": 35,
   "id": "45fc502b",
   "metadata": {},
   "outputs": [],
   "source": [
    "txt7 = '      string    '"
   ]
  },
  {
   "cell_type": "code",
   "execution_count": 36,
   "id": "958768e9",
   "metadata": {},
   "outputs": [
    {
     "data": {
      "text/plain": [
       "'string'"
      ]
     },
     "execution_count": 36,
     "metadata": {},
     "output_type": "execute_result"
    }
   ],
   "source": [
    "txt7.strip()\n",
    "#re end"
   ]
  },
  {
   "cell_type": "code",
   "execution_count": 37,
   "id": "7e571b38",
   "metadata": {},
   "outputs": [
    {
     "name": "stderr",
     "output_type": "stream",
     "text": [
      "[nltk_data] Downloading package punkt to\n",
      "[nltk_data]     C:\\Users\\yeshw\\AppData\\Roaming\\nltk_data...\n",
      "[nltk_data]   Package punkt is already up-to-date!\n"
     ]
    },
    {
     "data": {
      "text/plain": [
       "True"
      ]
     },
     "execution_count": 37,
     "metadata": {},
     "output_type": "execute_result"
    }
   ],
   "source": [
    "import nltk\n",
    "nltk.download('punkt')"
   ]
  },
  {
   "cell_type": "code",
   "execution_count": 38,
   "id": "4da4a305",
   "metadata": {},
   "outputs": [],
   "source": [
    "from nltk.tokenize import word_tokenize"
   ]
  },
  {
   "cell_type": "code",
   "execution_count": 39,
   "id": "0fc0f15d",
   "metadata": {},
   "outputs": [],
   "source": [
    "txt = 'the fear of the lord is the beining of the wisdom'"
   ]
  },
  {
   "cell_type": "code",
   "execution_count": 40,
   "id": "6081a704",
   "metadata": {},
   "outputs": [
    {
     "name": "stdout",
     "output_type": "stream",
     "text": [
      "['the', 'fear', 'of', 'the', 'lord', 'is', 'the', 'beining', 'of', 'the', 'wisdom']\n"
     ]
    }
   ],
   "source": [
    "print(word_tokenize(txt))"
   ]
  },
  {
   "cell_type": "code",
   "execution_count": 41,
   "id": "48d44779",
   "metadata": {},
   "outputs": [],
   "source": [
    "txt2 = 'a rabbi said to his 100 disciples, \"good deeds are better than wise saying.\"'"
   ]
  },
  {
   "cell_type": "code",
   "execution_count": 42,
   "id": "e647c52b",
   "metadata": {},
   "outputs": [
    {
     "name": "stdout",
     "output_type": "stream",
     "text": [
      "['a', 'rabbi', 'said', 'to', 'his', '100', 'disciples', ',', '``', 'good', 'deeds', 'are', 'better', 'than', 'wise', 'saying', '.', \"''\"]\n"
     ]
    }
   ],
   "source": [
    "print(word_tokenize(txt2))"
   ]
  },
  {
   "cell_type": "code",
   "execution_count": 43,
   "id": "7d0885d5",
   "metadata": {},
   "outputs": [
    {
     "name": "stderr",
     "output_type": "stream",
     "text": [
      "[nltk_data] Downloading package stopwords to\n",
      "[nltk_data]     C:\\Users\\yeshw\\AppData\\Roaming\\nltk_data...\n",
      "[nltk_data]   Package stopwords is already up-to-date!\n"
     ]
    },
    {
     "data": {
      "text/plain": [
       "True"
      ]
     },
     "execution_count": 43,
     "metadata": {},
     "output_type": "execute_result"
    }
   ],
   "source": [
    "from nltk.corpus import stopwords\n",
    "import nltk\n",
    "nltk.download('stopwords')"
   ]
  },
  {
   "cell_type": "code",
   "execution_count": 44,
   "id": "1d37204e",
   "metadata": {},
   "outputs": [
    {
     "data": {
      "text/plain": [
       "['arabic',\n",
       " 'azerbaijani',\n",
       " 'basque',\n",
       " 'bengali',\n",
       " 'catalan',\n",
       " 'chinese',\n",
       " 'danish',\n",
       " 'dutch',\n",
       " 'english',\n",
       " 'finnish',\n",
       " 'french',\n",
       " 'german',\n",
       " 'greek',\n",
       " 'hebrew',\n",
       " 'hinglish',\n",
       " 'hungarian',\n",
       " 'indonesian',\n",
       " 'italian',\n",
       " 'kazakh',\n",
       " 'nepali',\n",
       " 'norwegian',\n",
       " 'portuguese',\n",
       " 'romanian',\n",
       " 'russian',\n",
       " 'slovene',\n",
       " 'spanish',\n",
       " 'swedish',\n",
       " 'tajik',\n",
       " 'turkish']"
      ]
     },
     "execution_count": 44,
     "metadata": {},
     "output_type": "execute_result"
    }
   ],
   "source": [
    "stopwords.fileids()"
   ]
  },
  {
   "cell_type": "code",
   "execution_count": 45,
   "id": "d5dccb52",
   "metadata": {},
   "outputs": [],
   "source": [
    "eng_stopwords = stopwords.words('arabic')"
   ]
  },
  {
   "cell_type": "code",
   "execution_count": 46,
   "id": "532ba536",
   "metadata": {},
   "outputs": [],
   "source": [
    "tokens = word_tokenize(txt)"
   ]
  },
  {
   "cell_type": "code",
   "execution_count": 47,
   "id": "338c3c27",
   "metadata": {},
   "outputs": [
    {
     "name": "stdout",
     "output_type": "stream",
     "text": [
      "['the', 'fear', 'of', 'the', 'lord', 'is', 'the', 'beining', 'of', 'the', 'wisdom']\n"
     ]
    }
   ],
   "source": [
    "print(tokens)"
   ]
  },
  {
   "cell_type": "code",
   "execution_count": 48,
   "id": "50352780",
   "metadata": {},
   "outputs": [
    {
     "data": {
      "text/plain": [
       "[]"
      ]
     },
     "execution_count": 48,
     "metadata": {},
     "output_type": "execute_result"
    }
   ],
   "source": [
    "[i for i in tokens if i in eng_stopwords]"
   ]
  },
  {
   "cell_type": "code",
   "execution_count": 49,
   "id": "b41556a1",
   "metadata": {},
   "outputs": [
    {
     "data": {
      "text/plain": [
       "['the',\n",
       " 'fear',\n",
       " 'of',\n",
       " 'the',\n",
       " 'lord',\n",
       " 'is',\n",
       " 'the',\n",
       " 'beining',\n",
       " 'of',\n",
       " 'the',\n",
       " 'wisdom']"
      ]
     },
     "execution_count": 49,
     "metadata": {},
     "output_type": "execute_result"
    }
   ],
   "source": [
    "[i for i in tokens if not i in eng_stopwords]"
   ]
  },
  {
   "cell_type": "code",
   "execution_count": 50,
   "id": "40254159",
   "metadata": {},
   "outputs": [],
   "source": [
    "eng_stopwords = stopwords.words('english')"
   ]
  },
  {
   "cell_type": "code",
   "execution_count": 51,
   "id": "aada433e",
   "metadata": {},
   "outputs": [],
   "source": [
    "tokens = word_tokenize(txt)"
   ]
  },
  {
   "cell_type": "code",
   "execution_count": 52,
   "id": "d7994480",
   "metadata": {},
   "outputs": [
    {
     "name": "stdout",
     "output_type": "stream",
     "text": [
      "['the', 'fear', 'of', 'the', 'lord', 'is', 'the', 'beining', 'of', 'the', 'wisdom']\n"
     ]
    }
   ],
   "source": [
    "print(tokens)"
   ]
  },
  {
   "cell_type": "code",
   "execution_count": 53,
   "id": "b749f766",
   "metadata": {},
   "outputs": [
    {
     "data": {
      "text/plain": [
       "['the', 'of', 'the', 'is', 'the', 'of', 'the']"
      ]
     },
     "execution_count": 53,
     "metadata": {},
     "output_type": "execute_result"
    }
   ],
   "source": [
    "[i for i in tokens if i in eng_stopwords]"
   ]
  },
  {
   "cell_type": "code",
   "execution_count": 54,
   "id": "789ad7fb",
   "metadata": {},
   "outputs": [
    {
     "data": {
      "text/plain": [
       "['i',\n",
       " 'me',\n",
       " 'my',\n",
       " 'myself',\n",
       " 'we',\n",
       " 'our',\n",
       " 'ours',\n",
       " 'ourselves',\n",
       " 'you',\n",
       " \"you're\",\n",
       " \"you've\",\n",
       " \"you'll\",\n",
       " \"you'd\",\n",
       " 'your',\n",
       " 'yours',\n",
       " 'yourself',\n",
       " 'yourselves',\n",
       " 'he',\n",
       " 'him',\n",
       " 'his',\n",
       " 'himself',\n",
       " 'she',\n",
       " \"she's\",\n",
       " 'her',\n",
       " 'hers',\n",
       " 'herself',\n",
       " 'it',\n",
       " \"it's\",\n",
       " 'its',\n",
       " 'itself',\n",
       " 'they',\n",
       " 'them',\n",
       " 'their',\n",
       " 'theirs',\n",
       " 'themselves',\n",
       " 'what',\n",
       " 'which',\n",
       " 'who',\n",
       " 'whom',\n",
       " 'this',\n",
       " 'that',\n",
       " \"that'll\",\n",
       " 'these',\n",
       " 'those',\n",
       " 'am',\n",
       " 'is',\n",
       " 'are',\n",
       " 'was',\n",
       " 'were',\n",
       " 'be',\n",
       " 'been',\n",
       " 'being',\n",
       " 'have',\n",
       " 'has',\n",
       " 'had',\n",
       " 'having',\n",
       " 'do',\n",
       " 'does',\n",
       " 'did',\n",
       " 'doing',\n",
       " 'a',\n",
       " 'an',\n",
       " 'the',\n",
       " 'and',\n",
       " 'but',\n",
       " 'if',\n",
       " 'or',\n",
       " 'because',\n",
       " 'as',\n",
       " 'until',\n",
       " 'while',\n",
       " 'of',\n",
       " 'at',\n",
       " 'by',\n",
       " 'for',\n",
       " 'with',\n",
       " 'about',\n",
       " 'against',\n",
       " 'between',\n",
       " 'into',\n",
       " 'through',\n",
       " 'during',\n",
       " 'before',\n",
       " 'after',\n",
       " 'above',\n",
       " 'below',\n",
       " 'to',\n",
       " 'from',\n",
       " 'up',\n",
       " 'down',\n",
       " 'in',\n",
       " 'out',\n",
       " 'on',\n",
       " 'off',\n",
       " 'over',\n",
       " 'under',\n",
       " 'again',\n",
       " 'further',\n",
       " 'then',\n",
       " 'once',\n",
       " 'here',\n",
       " 'there',\n",
       " 'when',\n",
       " 'where',\n",
       " 'why',\n",
       " 'how',\n",
       " 'all',\n",
       " 'any',\n",
       " 'both',\n",
       " 'each',\n",
       " 'few',\n",
       " 'more',\n",
       " 'most',\n",
       " 'other',\n",
       " 'some',\n",
       " 'such',\n",
       " 'no',\n",
       " 'nor',\n",
       " 'not',\n",
       " 'only',\n",
       " 'own',\n",
       " 'same',\n",
       " 'so',\n",
       " 'than',\n",
       " 'too',\n",
       " 'very',\n",
       " 's',\n",
       " 't',\n",
       " 'can',\n",
       " 'will',\n",
       " 'just',\n",
       " 'don',\n",
       " \"don't\",\n",
       " 'should',\n",
       " \"should've\",\n",
       " 'now',\n",
       " 'd',\n",
       " 'll',\n",
       " 'm',\n",
       " 'o',\n",
       " 're',\n",
       " 've',\n",
       " 'y',\n",
       " 'ain',\n",
       " 'aren',\n",
       " \"aren't\",\n",
       " 'couldn',\n",
       " \"couldn't\",\n",
       " 'didn',\n",
       " \"didn't\",\n",
       " 'doesn',\n",
       " \"doesn't\",\n",
       " 'hadn',\n",
       " \"hadn't\",\n",
       " 'hasn',\n",
       " \"hasn't\",\n",
       " 'haven',\n",
       " \"haven't\",\n",
       " 'isn',\n",
       " \"isn't\",\n",
       " 'ma',\n",
       " 'mightn',\n",
       " \"mightn't\",\n",
       " 'mustn',\n",
       " \"mustn't\",\n",
       " 'needn',\n",
       " \"needn't\",\n",
       " 'shan',\n",
       " \"shan't\",\n",
       " 'shouldn',\n",
       " \"shouldn't\",\n",
       " 'wasn',\n",
       " \"wasn't\",\n",
       " 'weren',\n",
       " \"weren't\",\n",
       " 'won',\n",
       " \"won't\",\n",
       " 'wouldn',\n",
       " \"wouldn't\"]"
      ]
     },
     "execution_count": 54,
     "metadata": {},
     "output_type": "execute_result"
    }
   ],
   "source": [
    "eng_stopwords"
   ]
  },
  {
   "cell_type": "code",
   "execution_count": 55,
   "id": "41b57596",
   "metadata": {},
   "outputs": [
    {
     "data": {
      "text/plain": [
       "['fear', 'lord', 'beining', 'wisdom']"
      ]
     },
     "execution_count": 55,
     "metadata": {},
     "output_type": "execute_result"
    }
   ],
   "source": [
    "[i for i in tokens if not i in eng_stopwords]"
   ]
  },
  {
   "cell_type": "code",
   "execution_count": 56,
   "id": "aad6d93c",
   "metadata": {},
   "outputs": [],
   "source": [
    "custom_stop_words = ['The']"
   ]
  },
  {
   "cell_type": "code",
   "execution_count": 57,
   "id": "8440c5b3",
   "metadata": {},
   "outputs": [],
   "source": [
    "new_stop_words = eng_stopwords+custom_stop_words"
   ]
  },
  {
   "cell_type": "code",
   "execution_count": 58,
   "id": "ac4af576",
   "metadata": {},
   "outputs": [
    {
     "data": {
      "text/plain": [
       "['fear', 'lord', 'beining', 'wisdom']"
      ]
     },
     "execution_count": 58,
     "metadata": {},
     "output_type": "execute_result"
    }
   ],
   "source": [
    "[i for i in tokens if not i in eng_stopwords]"
   ]
  },
  {
   "cell_type": "code",
   "execution_count": 59,
   "id": "ea1d80af",
   "metadata": {},
   "outputs": [],
   "source": [
    "from nltk.stem import PorterStemmer"
   ]
  },
  {
   "cell_type": "code",
   "execution_count": 60,
   "id": "0fd92052",
   "metadata": {},
   "outputs": [],
   "source": [
    "word_stemmer = PorterStemmer()"
   ]
  },
  {
   "cell_type": "code",
   "execution_count": 61,
   "id": "d113d027",
   "metadata": {},
   "outputs": [
    {
     "data": {
      "text/plain": [
       "'play'"
      ]
     },
     "execution_count": 61,
     "metadata": {},
     "output_type": "execute_result"
    }
   ],
   "source": [
    "word_stemmer.stem('play')\n",
    "word_stemmer.stem('played')\n",
    "word_stemmer.stem('playing')"
   ]
  },
  {
   "cell_type": "code",
   "execution_count": 62,
   "id": "4cf0802e",
   "metadata": {},
   "outputs": [],
   "source": [
    "words = ['run', 'runner', 'running','ran', 'runs', 'easily']"
   ]
  },
  {
   "cell_type": "code",
   "execution_count": 63,
   "id": "f739a568",
   "metadata": {},
   "outputs": [
    {
     "name": "stdout",
     "output_type": "stream",
     "text": [
      "run --> run\n",
      "runner --> runner\n",
      "running --> run\n",
      "ran --> ran\n",
      "runs --> run\n",
      "easily --> easili\n"
     ]
    }
   ],
   "source": [
    "for word in words:\n",
    "    print(word+' --> '+word_stemmer.stem(word))"
   ]
  },
  {
   "cell_type": "code",
   "execution_count": 64,
   "id": "dc52a10d",
   "metadata": {},
   "outputs": [
    {
     "name": "stderr",
     "output_type": "stream",
     "text": [
      "[nltk_data] Downloading package wordnet to\n",
      "[nltk_data]     C:\\Users\\yeshw\\AppData\\Roaming\\nltk_data...\n",
      "[nltk_data]   Package wordnet is already up-to-date!\n"
     ]
    },
    {
     "data": {
      "text/plain": [
       "True"
      ]
     },
     "execution_count": 64,
     "metadata": {},
     "output_type": "execute_result"
    }
   ],
   "source": [
    "from nltk.stem import WordNetLemmatizer\n",
    "lema = WordNetLemmatizer()\n",
    "import nltk\n",
    "nltk.download('wordnet')"
   ]
  },
  {
   "cell_type": "code",
   "execution_count": 65,
   "id": "a0cbd01d",
   "metadata": {},
   "outputs": [
    {
     "name": "stderr",
     "output_type": "stream",
     "text": [
      "[nltk_data] Downloading package omw-1.4 to\n",
      "[nltk_data]     C:\\Users\\yeshw\\AppData\\Roaming\\nltk_data...\n",
      "[nltk_data]   Package omw-1.4 is already up-to-date!\n"
     ]
    },
    {
     "data": {
      "text/plain": [
       "True"
      ]
     },
     "execution_count": 65,
     "metadata": {},
     "output_type": "execute_result"
    }
   ],
   "source": [
    "import nltk\n",
    "nltk.download('omw-1.4')"
   ]
  },
  {
   "cell_type": "code",
   "execution_count": 66,
   "id": "e3772ad0",
   "metadata": {},
   "outputs": [
    {
     "data": {
      "text/plain": [
       "'play'"
      ]
     },
     "execution_count": 66,
     "metadata": {},
     "output_type": "execute_result"
    }
   ],
   "source": [
    "lema.lemmatize('play')\n",
    "\n"
   ]
  },
  {
   "cell_type": "code",
   "execution_count": 67,
   "id": "b856d26d",
   "metadata": {},
   "outputs": [
    {
     "data": {
      "text/plain": [
       "'played'"
      ]
     },
     "execution_count": 67,
     "metadata": {},
     "output_type": "execute_result"
    }
   ],
   "source": [
    "lema.lemmatize('played')"
   ]
  },
  {
   "cell_type": "code",
   "execution_count": 68,
   "id": "33516098",
   "metadata": {},
   "outputs": [
    {
     "data": {
      "text/plain": [
       "'playing'"
      ]
     },
     "execution_count": 68,
     "metadata": {},
     "output_type": "execute_result"
    }
   ],
   "source": [
    "lema.lemmatize('playing')"
   ]
  },
  {
   "cell_type": "code",
   "execution_count": 69,
   "id": "616b7901",
   "metadata": {},
   "outputs": [
    {
     "name": "stdout",
     "output_type": "stream",
     "text": [
      "showing info https://raw.githubusercontent.com/nltk/nltk_data/gh-pages/index.xml\n"
     ]
    },
    {
     "data": {
      "text/plain": [
       "True"
      ]
     },
     "execution_count": 69,
     "metadata": {},
     "output_type": "execute_result"
    }
   ],
   "source": [
    "import nltk\n",
    "nltk.download()"
   ]
  },
  {
   "cell_type": "code",
   "execution_count": 70,
   "id": "fda2b837",
   "metadata": {},
   "outputs": [
    {
     "name": "stdout",
     "output_type": "stream",
     "text": [
      "showing info https://raw.githubusercontent.com/nltk/nltk_data/gh-pages/index.xml\n"
     ]
    },
    {
     "data": {
      "text/plain": [
       "True"
      ]
     },
     "execution_count": 70,
     "metadata": {},
     "output_type": "execute_result"
    }
   ],
   "source": [
    "import nltk\n",
    "nltk.download()"
   ]
  },
  {
   "cell_type": "code",
   "execution_count": 71,
   "id": "a1ddae2f",
   "metadata": {},
   "outputs": [],
   "source": [
    "words = ['run', 'runner', 'running', 'ran', 'runs', 'fairly']"
   ]
  },
  {
   "cell_type": "code",
   "execution_count": 72,
   "id": "2a65423c",
   "metadata": {
    "scrolled": false
   },
   "outputs": [
    {
     "name": "stdout",
     "output_type": "stream",
     "text": [
      "run --> run\n",
      "runner --> runner\n",
      "running --> running\n",
      "ran --> ran\n",
      "runs --> run\n",
      "fairly --> fairly\n"
     ]
    }
   ],
   "source": [
    "for word in words:\n",
    "    print(word+' --> '+lema.lemmatize(word))"
   ]
  },
  {
   "cell_type": "code",
   "execution_count": 73,
   "id": "e27e62f5",
   "metadata": {},
   "outputs": [
    {
     "name": "stdout",
     "output_type": "stream",
     "text": [
      "showing info https://raw.githubusercontent.com/nltk/nltk_data/gh-pages/index.xml\n"
     ]
    },
    {
     "data": {
      "text/plain": [
       "True"
      ]
     },
     "execution_count": 73,
     "metadata": {},
     "output_type": "execute_result"
    }
   ],
   "source": [
    "import nltk\n",
    "nltk.download()"
   ]
  },
  {
   "cell_type": "code",
   "execution_count": 74,
   "id": "d8cbf40f",
   "metadata": {},
   "outputs": [
    {
     "data": {
      "text/plain": [
       "'believ'"
      ]
     },
     "execution_count": 74,
     "metadata": {},
     "output_type": "execute_result"
    }
   ],
   "source": [
    "word_stemmer.stem('believes')"
   ]
  },
  {
   "cell_type": "code",
   "execution_count": 75,
   "id": "f51b255b",
   "metadata": {},
   "outputs": [
    {
     "data": {
      "text/plain": [
       "'belief'"
      ]
     },
     "execution_count": 75,
     "metadata": {},
     "output_type": "execute_result"
    }
   ],
   "source": [
    "lema.lemmatize('believes')"
   ]
  },
  {
   "cell_type": "code",
   "execution_count": 76,
   "id": "f8b9f79b",
   "metadata": {},
   "outputs": [],
   "source": [
    "from wordcloud import WordCloud \n",
    "import matplotlib.pyplot as plt"
   ]
  },
  {
   "cell_type": "code",
   "execution_count": 77,
   "id": "6ae2a10c",
   "metadata": {},
   "outputs": [],
   "source": [
    "txt = 'The fear of the Lord is the begining of the wisdom'"
   ]
  },
  {
   "cell_type": "markdown",
   "id": "69ec81e0",
   "metadata": {},
   "source": [
    "txt2\n"
   ]
  },
  {
   "cell_type": "code",
   "execution_count": null,
   "id": "b649199a",
   "metadata": {},
   "outputs": [],
   "source": []
  },
  {
   "cell_type": "code",
   "execution_count": 89,
   "id": "055a3cec",
   "metadata": {},
   "outputs": [],
   "source": [
    "hi = \"ram is fail and pradeep lowda \""
   ]
  },
  {
   "cell_type": "code",
   "execution_count": 91,
   "id": "72a8760b",
   "metadata": {},
   "outputs": [
    {
     "data": {
      "image/png": "[encoded data removed]",
      "text/plain": [
       "<Figure size 640x480 with 1 Axes>"
      ]
     },
     "metadata": {},
     "output_type": "display_data"
    }
   ],
   "source": [
    "wordcloud = WordCloud(width =300, height=300, colormap='Purples_r').generate(txt)\n",
    "plt.figure()\n",
    "plt.imshow(wordcloud)\n",
    "plt.axis('off')\n",
    "plt.show()"
   ]
  },
  {
   "cell_type": "code",
   "execution_count": 79,
   "id": "343c16ac",
   "metadata": {},
   "outputs": [],
   "source": [
    "from nltk.sentiment.vader import SentimentIntensityAnalyzer\n",
    "analyser = SentimentIntensityAnalyzer()"
   ]
  },
  {
   "cell_type": "code",
   "execution_count": 103,
   "id": "c6424183",
   "metadata": {},
   "outputs": [],
   "source": [
    "text = 'He is good'\n",
    "scores = analyser.polarity_scores(text)"
   ]
  },
  {
   "cell_type": "code",
   "execution_count": 104,
   "id": "996989c3",
   "metadata": {},
   "outputs": [
    {
     "name": "stdout",
     "output_type": "stream",
     "text": [
      "{'neg': 0.0, 'neu': 0.408, 'pos': 0.592, 'compound': 0.4404}\n"
     ]
    }
   ],
   "source": [
    "print(scores)"
   ]
  },
  {
   "cell_type": "code",
   "execution_count": 105,
   "id": "2043fefc",
   "metadata": {},
   "outputs": [],
   "source": [
    "text = 'He is good!'\n",
    "scores = analyser.polarity_scores(text)"
   ]
  },
  {
   "cell_type": "code",
   "execution_count": 106,
   "id": "4bc8c693",
   "metadata": {},
   "outputs": [
    {
     "name": "stdout",
     "output_type": "stream",
     "text": [
      "{'neg': 0.0, 'neu': 0.385, 'pos': 0.615, 'compound': 0.4926}\n"
     ]
    }
   ],
   "source": [
    "print(scores)"
   ]
  },
  {
   "cell_type": "code",
   "execution_count": 107,
   "id": "6d3abc55",
   "metadata": {},
   "outputs": [],
   "source": [
    "text = 'He is GOOD!'\n",
    "scores = analyser.polarity_scores(text)"
   ]
  },
  {
   "cell_type": "code",
   "execution_count": 108,
   "id": "84fd001b",
   "metadata": {},
   "outputs": [
    {
     "name": "stdout",
     "output_type": "stream",
     "text": [
      "{'neg': 0.0, 'neu': 0.338, 'pos': 0.662, 'compound': 0.6027}\n"
     ]
    }
   ],
   "source": [
    "print(scores)"
   ]
  },
  {
   "cell_type": "code",
   "execution_count": null,
   "id": "56ecaec4",
   "metadata": {},
   "outputs": [],
   "source": []
  }
 ],
 "metadata": {
  "kernelspec": {
   "display_name": "Python 3 (ipykernel)",
   "language": "python",
   "name": "python3"
  },
  "language_info": {
   "codemirror_mode": {
    "name": "ipython",
    "version": 3
   },
   "file_extension": ".py",
   "mimetype": "text/x-python",
   "name": "python",
   "nbconvert_exporter": "python",
   "pygments_lexer": "ipython3",
   "version": "3.9.13"
  }
 },
 "nbformat": 4,
 "nbformat_minor": 5
}
